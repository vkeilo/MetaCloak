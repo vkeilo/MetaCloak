{
 "cells": [
  {
   "cell_type": "code",
   "execution_count": null,
   "metadata": {},
   "outputs": [],
   "source": []
  },
  {
   "cell_type": "code",
   "execution_count": 6,
   "metadata": {},
   "outputs": [
    {
     "name": "stdout",
     "output_type": "stream",
     "text": [
      "Maximum pixel change for 0012_01.png: 0\n",
      "Maximum pixel change for 0071_01.png: 0\n",
      "Maximum pixel change for 0114_01.png: 0\n",
      "Maximum pixel change for 0398_01.png: 0\n"
     ]
    }
   ],
   "source": [
    "import os\n",
    "import cv2\n",
    "import numpy as np\n",
    "\n",
    "# Paths to the folders containing original and noisy images\n",
    "original_folder = '/data/home/yekai/github/mypro/Metacloak_PAN/exp_datas_output/exp_data_MAT-PAN-1000-200-1-1-x1x1-radius11-noSGLD-robust0-10-0.01-1-k=2-useS-last-1727450104/gen_output/release-MetaCloak-advance_steps-2-total_trail_num-4-unroll_steps-1-interval-200-total_train_steps-1000-SD21base-robust-gauK-7/dataset-VGGFace2-clean-r-11-model-SD21base-gen_prompt-sks/0/image_before_addding_noise'\n",
    "noisy_folder = '/data/home/yekai/github/mypro/Metacloak_PAN/exp_datas_output/exp_data_MAT-PAN-1000-200-1-1-x1x1-radius11-noSGLD-robust0-10-0.01-1-k=2-useS-last-1727450104/gen_output/release-MetaCloak-advance_steps-2-total_trail_num-4-unroll_steps-1-interval-200-total_train_steps-1000-SD21base-robust-gauK-7/dataset-VGGFace2-clean-r-11-model-SD21base-gen_prompt-sks/0/noise-ckpt/final'\n",
    "\n",
    "# List of image file names to compare\n",
    "image_files = ['0012_01.png', '0071_01.png', '0114_01.png', '0398_01.png']\n",
    "\n",
    "def find_max_pixel_change(original_img, noisy_img):\n",
    "    \"\"\"Calculate the maximum pixel change between two images.\"\"\"\n",
    "    # Compute the absolute difference between the two images\n",
    "    diff = np.abs(original_img.astype(np.int16) - noisy_img.astype(np.int16))\n",
    "    \n",
    "    # Find the maximum pixel difference\n",
    "    max_change = np.max(diff)\n",
    "    \n",
    "    return max_change\n",
    "\n",
    "for image_file in image_files:\n",
    "    # Load original and noisy images\n",
    "    original_path = os.path.join(original_folder, image_file)\n",
    "    noisy_path = os.path.join(noisy_folder, 'noisy_' + image_file)\n",
    "    \n",
    "    original_img = cv2.imread(original_path)\n",
    "    noisy_img = cv2.imread(noisy_path)\n",
    "    \n",
    "    if original_img is None or noisy_img is None:\n",
    "        print(f\"Error loading image: {image_file}\")\n",
    "        continue\n",
    "    \n",
    "    # Find the maximum pixel change\n",
    "    max_change = find_max_pixel_change(original_img, noisy_img)\n",
    "    print(f\"Maximum pixel change for {image_file}: {max_change}\")"
   ]
  }
 ],
 "metadata": {
  "kernelspec": {
   "display_name": "Metacloak",
   "language": "python",
   "name": "python3"
  },
  "language_info": {
   "codemirror_mode": {
    "name": "ipython",
    "version": 3
   },
   "file_extension": ".py",
   "mimetype": "text/x-python",
   "name": "python",
   "nbconvert_exporter": "python",
   "pygments_lexer": "ipython3",
   "version": "3.9.18"
  }
 },
 "nbformat": 4,
 "nbformat_minor": 2
}
